{
  "nbformat": 4,
  "nbformat_minor": 0,
  "metadata": {
    "colab": {
      "provenance": [],
      "authorship_tag": "ABX9TyPFxU49sv6bjTlGSKR19U3o",
      "include_colab_link": true
    },
    "kernelspec": {
      "name": "python3",
      "display_name": "Python 3"
    },
    "language_info": {
      "name": "python"
    }
  },
  "cells": [
    {
      "cell_type": "markdown",
      "metadata": {
        "id": "view-in-github",
        "colab_type": "text"
      },
      "source": [
        "<a href=\"https://colab.research.google.com/github/Benjamin930527/introduction-to-computers/blob/main/Untitled11.ipynb\" target=\"_parent\"><img src=\"https://colab.research.google.com/assets/colab-badge.svg\" alt=\"Open In Colab\"/></a>"
      ]
    },
    {
      "cell_type": "code",
      "execution_count": 2,
      "metadata": {
        "colab": {
          "base_uri": "https://localhost:8080/"
        },
        "id": "vw3qFIChYxdT",
        "outputId": "a02b2381-06a7-4beb-d8c1-1c20c3b1af23"
      },
      "outputs": [
        {
          "output_type": "stream",
          "name": "stdout",
          "text": [
            "請輸入分數80\n",
            "及格\n"
          ]
        }
      ],
      "source": [
        "score = int(input(\"請輸入分數\"))\n",
        "if (score >= 60):\n",
        "  print(\"及格\")"
      ]
    },
    {
      "cell_type": "code",
      "source": [
        "數學 = 60\n",
        "英文 = 70\n",
        "if 數學 > 英文:\n",
        "  print(\"數學比較高\")\n",
        "else:\n",
        "  print(\"英文比較高\")"
      ],
      "metadata": {
        "colab": {
          "base_uri": "https://localhost:8080/"
        },
        "id": "GtkJqdi5aPCs",
        "outputId": "e9daead7-be70-41cb-d313-c241af81d597"
      },
      "execution_count": 3,
      "outputs": [
        {
          "output_type": "stream",
          "name": "stdout",
          "text": [
            "英文比較高\n"
          ]
        }
      ]
    },
    {
      "cell_type": "code",
      "source": [
        "password = int(input(\"請輸入密碼\"))\n",
        "if(password == 1234):\n",
        "  print(\"歡迎光臨\")\n"
      ],
      "metadata": {
        "colab": {
          "base_uri": "https://localhost:8080/"
        },
        "id": "jYcQNeFKbQuy",
        "outputId": "0d842033-359d-482c-ad82-c6e9da2e6231"
      },
      "execution_count": 4,
      "outputs": [
        {
          "output_type": "stream",
          "name": "stdout",
          "text": [
            "請輸入密碼1234\n",
            "歡迎光臨\n"
          ]
        }
      ]
    },
    {
      "cell_type": "code",
      "source": [
        "rain = input(\"請問今天會下雨嗎\")\n",
        "if(rain==\"Y\"or rain==\"y\"):\n",
        "  print(\"不用帶傘\")"
      ],
      "metadata": {
        "colab": {
          "base_uri": "https://localhost:8080/"
        },
        "id": "3yr9Y3sRb5JN",
        "outputId": "9d9076e3-3497-4184-bc47-a78a837a8fb0"
      },
      "execution_count": 6,
      "outputs": [
        {
          "output_type": "stream",
          "name": "stdout",
          "text": [
            "請問今天會下雨嗎y\n",
            "不用帶傘\n"
          ]
        }
      ]
    },
    {
      "cell_type": "code",
      "source": [
        "number = int(input(\"請輸入正整數\"))\n",
        "if(number % 2 == 0):\n",
        " print(number,\"為偶數!\")\n",
        "else:\n",
        " print(number,\"為奇`1數!\")"
      ],
      "metadata": {
        "colab": {
          "base_uri": "https://localhost:8080/"
        },
        "id": "6v2JCP-BcfOO",
        "outputId": "45f9dfd5-1fa1-4765-cbf9-0951e306c728"
      },
      "execution_count": 8,
      "outputs": [
        {
          "output_type": "stream",
          "name": "stdout",
          "text": [
            "請輸入正整數77\n",
            "77 為奇數!\n"
          ]
        }
      ]
    }
  ]
}