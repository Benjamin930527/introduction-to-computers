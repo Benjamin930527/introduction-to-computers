{
  "nbformat": 4,
  "nbformat_minor": 0,
  "metadata": {
    "colab": {
      "provenance": [],
      "authorship_tag": "ABX9TyN2m6IAy5aadQEUqBVh0qjS",
      "include_colab_link": true
    },
    "kernelspec": {
      "name": "python3",
      "display_name": "Python 3"
    },
    "language_info": {
      "name": "python"
    }
  },
  "cells": [
    {
      "cell_type": "markdown",
      "metadata": {
        "id": "view-in-github",
        "colab_type": "text"
      },
      "source": [
        "<a href=\"https://colab.research.google.com/github/Benjamin930527/introduction-to-computers/blob/main/Untitled12.ipynb\" target=\"_parent\"><img src=\"https://colab.research.google.com/assets/colab-badge.svg\" alt=\"Open In Colab\"/></a>"
      ]
    },
    {
      "cell_type": "code",
      "execution_count": 1,
      "metadata": {
        "colab": {
          "base_uri": "https://localhost:8080/"
        },
        "id": "xr5dO4AuXHgv",
        "outputId": "1e3fb9c0-fcf9-4cb2-8875-321bc2e40d1b"
      },
      "outputs": [
        {
          "output_type": "stream",
          "name": "stdout",
          "text": [
            "請輸入體溫50\n",
            "體溫過高!\n"
          ]
        }
      ],
      "source": [
        "temperature = float(input(\"請輸入體溫\"))\n",
        "if(temperature >= 37.5):\n",
        "  print(\"體溫過高!\")\n",
        "elif(temperature <= 37.4 and temperature >= 37):\n",
        "  print(\"體溫略高!\")\n",
        "elif(temperature <= 36.9 and temperature >= 34):\n",
        "  print(\"體溫正常\")\n",
        "else:\n",
        "  print(\"體溫異常，請重新量測!\")\n",
        ""
      ]
    },
    {
      "cell_type": "code",
      "source": [
        "temperature = float(input(\"請輸入體溫\"))\n",
        "if(temperature >= 37.5):\n",
        "  print(\"體溫過高!\")\n",
        "elif(temperature <= 37.4 and temperature >= 37):\n",
        "  print(\"體溫略高!\")\n",
        "elif(temperature <= 36.9 and temperature >= 34):\n",
        "  print(\"體溫正常\")\n",
        "else:\n",
        "  print(\"體溫異常，請重新量測!\")"
      ],
      "metadata": {
        "colab": {
          "base_uri": "https://localhost:8080/"
        },
        "id": "Cc4PtMKiXViU",
        "outputId": "82cbdbfe-5b1e-430b-b403-34bda2a5dcc5"
      },
      "execution_count": 2,
      "outputs": [
        {
          "output_type": "stream",
          "name": "stdout",
          "text": [
            "請輸入體溫36\n",
            "體溫正常\n"
          ]
        }
      ]
    },
    {
      "cell_type": "code",
      "source": [
        "temperature = float(input(\"請輸入體溫\"))\n",
        "if(temperature >= 37.5):\n",
        "  print(\"體溫過高!\")\n",
        "elif(temperature <= 37.4 and temperature >= 37):\n",
        "  print(\"體溫略高!\")\n",
        "elif(temperature <= 36.9 and temperature >= 34):\n",
        "  print(\"體溫正常\")\n",
        "else:\n",
        "  print(\"體溫異常，請重新量測!\")"
      ],
      "metadata": {
        "colab": {
          "base_uri": "https://localhost:8080/"
        },
        "id": "oKTbb0ywXdzc",
        "outputId": "7a84b27c-1262-4f69-8f8a-1534a471995c"
      },
      "execution_count": 3,
      "outputs": [
        {
          "output_type": "stream",
          "name": "stdout",
          "text": [
            "請輸入體溫30\n",
            "體溫異常，請重新量測!\n"
          ]
        }
      ]
    },
    {
      "cell_type": "code",
      "source": [
        "grade = int(input(\"請輸入成績\"))\n",
        "if(grade >= 90):\n",
        "  print(\"A\")\n",
        "elif(grade <= 89 and grade >= 80):\n",
        "  print(\"B\")\n",
        "elif(grade <= 79 and grade >= 70):\n",
        "  print(\"C\")\n",
        "elif(grade <= 69 and grade >= 60):\n",
        "  print(\"D\")\n",
        "else:\n",
        "  print(\"E\")"
      ],
      "metadata": {
        "colab": {
          "base_uri": "https://localhost:8080/"
        },
        "id": "sCKGCn86XmHS",
        "outputId": "7916f2cf-5962-41a2-ac03-fe711d0ab15f"
      },
      "execution_count": 4,
      "outputs": [
        {
          "output_type": "stream",
          "name": "stdout",
          "text": [
            "請輸入成績100\n",
            "A\n"
          ]
        }
      ]
    },
    {
      "cell_type": "code",
      "source": [
        "grade = int(input(\"請輸入成績\"))\n",
        "if(grade >= 90):\n",
        "  print(\"A\")\n",
        "elif(grade <= 89 and grade >= 80):\n",
        "  print(\"B\")\n",
        "elif(grade <= 79 and grade >= 70):\n",
        "  print(\"C\")\n",
        "elif(grade <= 69 and grade >= 60):\n",
        "  print(\"D\")\n",
        "else:\n",
        "  print(\"E\")"
      ],
      "metadata": {
        "colab": {
          "base_uri": "https://localhost:8080/"
        },
        "id": "U3mm1Qs7Xse1",
        "outputId": "c2a2e52f-6518-4c98-ae54-3d6d2922002a"
      },
      "execution_count": 5,
      "outputs": [
        {
          "output_type": "stream",
          "name": "stdout",
          "text": [
            "請輸入成績85\n",
            "B\n"
          ]
        }
      ]
    },
    {
      "cell_type": "code",
      "source": [
        "grade = int(input(\"請輸入成績\"))\n",
        "if(grade >= 90):\n",
        "  print(\"A\")\n",
        "elif(grade <= 89 and grade >= 80):\n",
        "  print(\"B\")\n",
        "elif(grade <= 79 and grade >= 70):\n",
        "  print(\"C\")\n",
        "elif(grade <= 69 and grade >= 60):\n",
        "  print(\"D\")\n",
        "else:\n",
        "  print(\"E\")\n",
        ""
      ],
      "metadata": {
        "colab": {
          "base_uri": "https://localhost:8080/"
        },
        "id": "DTLXkl9BXxgV",
        "outputId": "8baabaa8-f690-4196-cba6-f3d9f5a46e4a"
      },
      "execution_count": 6,
      "outputs": [
        {
          "output_type": "stream",
          "name": "stdout",
          "text": [
            "請輸入成績75\n",
            "C\n"
          ]
        }
      ]
    },
    {
      "cell_type": "code",
      "source": [
        "grade = int(input(\"請輸入成績\"))\n",
        "if(grade >= 90):\n",
        "  print(\"A\")\n",
        "elif(grade <= 89 and grade >= 80):\n",
        "  print(\"B\")\n",
        "elif(grade <= 79 and grade >= 70):\n",
        "  print(\"C\")\n",
        "elif(grade <= 69 and grade >= 60):\n",
        "  print(\"D\")\n",
        "else:\n",
        "  print(\"E\")"
      ],
      "metadata": {
        "colab": {
          "base_uri": "https://localhost:8080/"
        },
        "id": "uHqaekrfX21V",
        "outputId": "44c1e887-e7a7-4707-c5e1-76d9c3419e5d"
      },
      "execution_count": 7,
      "outputs": [
        {
          "output_type": "stream",
          "name": "stdout",
          "text": [
            "請輸入成績65\n",
            "D\n"
          ]
        }
      ]
    },
    {
      "cell_type": "code",
      "source": [
        "grade = int(input(\"請輸入成績\"))\n",
        "if(grade >= 90):\n",
        "  print(\"A\")\n",
        "elif(grade <= 89 and grade >= 80):\n",
        "  print(\"B\")\n",
        "elif(grade <= 79 and grade >= 70):\n",
        "  print(\"C\")\n",
        "elif(grade <= 69 and grade >= 60):\n",
        "  print(\"D\")\n",
        "else:\n",
        "  print(\"E\")"
      ],
      "metadata": {
        "colab": {
          "base_uri": "https://localhost:8080/"
        },
        "id": "_Pc3toDQX_EF",
        "outputId": "dd5f4ed7-121b-4b91-c8b0-3c94f85c7a83"
      },
      "execution_count": 8,
      "outputs": [
        {
          "output_type": "stream",
          "name": "stdout",
          "text": [
            "請輸入成績55\n",
            "E\n"
          ]
        }
      ]
    },
    {
      "cell_type": "code",
      "source": [
        "season = int(input(\"請輸入月份\"))\n",
        "if(season == 3 or season == 4 or season == 5):\n",
        "  print(\"春天!\")\n",
        "elif season == 6 or season == 7 or season == 8:\n",
        "  print(\"夏天!\")\n",
        "elif season == 9 or season == 10 or season == 11:\n",
        "  print(\"秋天!\")\n",
        "elif season == 12 or season == 1 or season == 2:\n",
        "  print(\"冬天!\")\n",
        "else:\n",
        "  print(\"月份不在範圍內!\")"
      ],
      "metadata": {
        "colab": {
          "base_uri": "https://localhost:8080/"
        },
        "id": "9yLK9cbQYHyS",
        "outputId": "f46af34e-0d77-4d41-8d52-bffacf741b0f"
      },
      "execution_count": 9,
      "outputs": [
        {
          "output_type": "stream",
          "name": "stdout",
          "text": [
            "請輸入月份1\n",
            "冬天!\n"
          ]
        }
      ]
    },
    {
      "cell_type": "code",
      "source": [
        "season = int(input(\"請輸入月份\"))\n",
        "if(season == 3 or season == 4 or season == 5):\n",
        "  print(\"春天!\")\n",
        "elif season == 6 or season == 7 or season == 8:\n",
        "  print(\"夏天!\")\n",
        "elif season == 9 or season == 10 or season == 11:\n",
        "  print(\"秋天!\")\n",
        "elif season == 12 or season == 1 or season == 2:\n",
        "  print(\"冬天!\")\n",
        "else:\n",
        "  print(\"月份不在範圍內!\")"
      ],
      "metadata": {
        "colab": {
          "base_uri": "https://localhost:8080/"
        },
        "id": "8bLTqn77YNmO",
        "outputId": "61b130d7-a3a1-468c-f537-88f05a9e45d9"
      },
      "execution_count": 10,
      "outputs": [
        {
          "output_type": "stream",
          "name": "stdout",
          "text": [
            "請輸入月份3\n",
            "春天!\n"
          ]
        }
      ]
    },
    {
      "cell_type": "code",
      "source": [
        "season = int(input(\"請輸入月份\"))\n",
        "if(season == 3 or season == 4 or season == 5):\n",
        "  print(\"春天!\")\n",
        "elif season == 6 or season == 7 or season == 8:\n",
        "  print(\"夏天!\")\n",
        "elif season == 9 or season == 10 or season == 11:\n",
        "  print(\"秋天!\")\n",
        "elif season == 12 or season == 1 or season == 2:\n",
        "  print(\"冬天!\")\n",
        "else:\n",
        "  print(\"月份不在範圍內!\")"
      ],
      "metadata": {
        "colab": {
          "base_uri": "https://localhost:8080/"
        },
        "id": "1bj7S3b-YQvp",
        "outputId": "04d003c1-e2c7-4346-c32d-277567355944"
      },
      "execution_count": 11,
      "outputs": [
        {
          "output_type": "stream",
          "name": "stdout",
          "text": [
            "請輸入月份7\n",
            "夏天!\n"
          ]
        }
      ]
    },
    {
      "cell_type": "code",
      "source": [
        "season = int(input(\"請輸入月份\"))\n",
        "if(season == 3 or season == 4 or season == 5):\n",
        "  print(\"春天!\")\n",
        "elif season == 6 or season == 7 or season == 8:\n",
        "  print(\"夏天!\")\n",
        "elif season == 9 or season == 10 or season == 11:\n",
        "  print(\"秋天!\")\n",
        "elif season == 12 or season == 1 or season == 2:\n",
        "  print(\"冬天!\")\n",
        "else:\n",
        "  print(\"月份不在範圍內!\")"
      ],
      "metadata": {
        "colab": {
          "base_uri": "https://localhost:8080/"
        },
        "id": "eVCXTm4hYVFo",
        "outputId": "f8a991ae-eeb7-47e3-dd0b-c83ce9a171a8"
      },
      "execution_count": 12,
      "outputs": [
        {
          "output_type": "stream",
          "name": "stdout",
          "text": [
            "請輸入月份9\n",
            "秋天!\n"
          ]
        }
      ]
    },
    {
      "cell_type": "code",
      "source": [
        "season = int(input(\"請輸入月份\"))\n",
        "if(season == 3 or season == 4 or season == 5):\n",
        "  print(\"春天!\")\n",
        "elif season == 6 or season == 7 or season == 8:\n",
        "  print(\"夏天!\")\n",
        "elif season == 9 or season == 10 or season == 11:\n",
        "  print(\"秋天!\")\n",
        "elif season == 12 or season == 1 or season == 2:\n",
        "  print(\"冬天!\")\n",
        "else:\n",
        "  print(\"月份不在範圍內!\")"
      ],
      "metadata": {
        "colab": {
          "base_uri": "https://localhost:8080/"
        },
        "id": "WMYk4g5-YYuR",
        "outputId": "c7e6c9b8-1380-4c2f-93ac-9b889eb348ca"
      },
      "execution_count": 13,
      "outputs": [
        {
          "output_type": "stream",
          "name": "stdout",
          "text": [
            "請輸入月份13\n",
            "月份不在範圍內!\n"
          ]
        }
      ]
    }
  ]
}